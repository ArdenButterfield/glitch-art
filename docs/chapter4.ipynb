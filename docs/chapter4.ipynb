{
 "cells": [
  {
   "cell_type": "markdown",
   "metadata": {},
   "source": [
    "# Chapter 4: A Gallery of Glitches"
   ]
  },
  {
   "cell_type": "markdown",
   "metadata": {},
   "source": [
    "<img src=\"img/employ.png\">\n",
    "\n",
    "*Employ*\n",
    "\n",
    "Two-dimensional cellular automata and JPEG text insertion"
   ]
  },
  {
   "cell_type": "markdown",
   "metadata": {},
   "source": [
    "<img src=\"img/summeragain.png\">\n",
    "\n",
    "*Summer Again*\n",
    "\n",
    "Delay audio effect applied to green channel"
   ]
  },
  {
   "cell_type": "markdown",
   "metadata": {},
   "source": [
    "<img src=\"img/acidrain.png\">\n",
    "\n",
    "*Acid Rain*\n",
    "\n",
    "Glitcher smear() effect"
   ]
  },
  {
   "cell_type": "markdown",
   "metadata": {},
   "source": [
    "<img src=\"img/endoftheline_upscaled.png\">\n",
    "\n",
    "*End of the Line*\n",
    "\n",
    "Random shuffling as a Numpy array, Dithering, two-dimensional cellular automata"
   ]
  },
  {
   "cell_type": "markdown",
   "metadata": {},
   "source": [
    "<img src=\"img/parkingspot.png\">\n",
    "\n",
    "*Parking Spot*\n",
    "\n",
    "Random shuffling as Numpy array"
   ]
  }
 ],
 "metadata": {
  "kernelspec": {
   "display_name": "Python 3",
   "language": "python",
   "name": "python3"
  },
  "language_info": {
   "codemirror_mode": {
    "name": "ipython",
    "version": 3
   },
   "file_extension": ".py",
   "mimetype": "text/x-python",
   "name": "python",
   "nbconvert_exporter": "python",
   "pygments_lexer": "ipython3",
   "version": "3.7.4"
  }
 },
 "nbformat": 4,
 "nbformat_minor": 4
}
