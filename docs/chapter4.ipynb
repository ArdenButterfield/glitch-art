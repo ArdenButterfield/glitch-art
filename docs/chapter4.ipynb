{
 "cells": [
  {
   "cell_type": "markdown",
   "metadata": {},
   "source": [
    "# Chapter 4: A Gallery of Glitches"
   ]
  },
  {
   "cell_type": "markdown",
   "metadata": {},
   "source": [
    "These are photographs I took of myself and my neighborhood, and Glitched using my Glitcher class. I cropped and color corrected the images using GIMP, an open-source photo editing software. "
   ]
  },
  {
   "cell_type": "markdown",
   "metadata": {},
   "source": [
    "<img src=\"img/employ.png\">\n",
    "\n",
    "*Employ*\n",
    "\n",
    "Two-dimensional cellular automata and JPEG text insertion"
   ]
  },
  {
   "cell_type": "markdown",
   "metadata": {},
   "source": [
    "<img src=\"img/autotuneportrait.png\">\n",
    "\n",
    "*Self Portrait 00*\n",
    "\n",
    "Autotune, Glitcher smear()"
   ]
  },
  {
   "cell_type": "markdown",
   "metadata": {},
   "source": [
    "<img src=\"img/splotches.png\">\n",
    "\n",
    "*Self Portrait 01*\n",
    "\n",
    "Frequency shifting, vinyl crackle emulation, overdrive (all as audio)"
   ]
  },
  {
   "cell_type": "markdown",
   "metadata": {},
   "source": [
    "<img src=\"img/stripesportrait.png\">\n",
    "\n",
    "*Self Portrait 02*\n",
    "\n",
    "Vocoder, compressor, and high frequency boosting. Heavy JPEG compression."
   ]
  },
  {
   "cell_type": "markdown",
   "metadata": {},
   "source": [
    "<img src=\"img/portraitrainbow.png\">\n",
    "\n",
    "*Self Portrait 03*\n",
    "\n",
    "Bayer ithering, frequency shifting."
   ]
  },
  {
   "cell_type": "markdown",
   "metadata": {},
   "source": [
    "<img src=\"img/paintgarden.png\">\n",
    "\n",
    "*Paint Garden*\n",
    "\n",
    "Flanger audio effect, Glitcher smear"
   ]
  },
  {
   "cell_type": "markdown",
   "metadata": {},
   "source": [
    "<img src=\"img/whodocopsworkfor.png\">\n",
    "\n",
    "*Who Do Cops Work For?*\n",
    "\n",
    "Flattening and rescaling image dimensions, Gaussian blur"
   ]
  },
  {
   "cell_type": "markdown",
   "metadata": {},
   "source": [
    "<img src=\"img/summeragain.png\">\n",
    "\n",
    "*Summer Again*\n",
    "\n",
    "Delay audio effect applied to green channel"
   ]
  },
  {
   "cell_type": "markdown",
   "metadata": {},
   "source": [
    "<img src=\"img/acidrain.png\">\n",
    "\n",
    "*Acid Rain*\n",
    "\n",
    "Glitcher smear() effect"
   ]
  },
  {
   "cell_type": "markdown",
   "metadata": {},
   "source": [
    "<img src=\"img/endoftheline_upscaled.png\">\n",
    "\n",
    "*End of the Line*\n",
    "\n",
    "Random shuffling as a Numpy array, Dithering, two-dimensional cellular automata"
   ]
  },
  {
   "cell_type": "markdown",
   "metadata": {},
   "source": [
    "<img src=\"img/amberwaves2.png\">\n",
    "\n",
    "*Amber Waves*\n",
    "\n",
    "One-dimensional cellular automata"
   ]
  },
  {
   "cell_type": "markdown",
   "metadata": {},
   "source": [
    "<img src=\"img/parkingspot.png\">\n",
    "\n",
    "*Parking Spot*\n",
    "\n",
    "Random shuffling as Numpy array"
   ]
  }
 ],
 "metadata": {
  "kernelspec": {
   "display_name": "Python 3",
   "language": "python",
   "name": "python3"
  },
  "language_info": {
   "codemirror_mode": {
    "name": "ipython",
    "version": 3
   },
   "file_extension": ".py",
   "mimetype": "text/x-python",
   "name": "python",
   "nbconvert_exporter": "python",
   "pygments_lexer": "ipython3",
   "version": "3.7.4"
  }
 },
 "nbformat": 4,
 "nbformat_minor": 4
}
