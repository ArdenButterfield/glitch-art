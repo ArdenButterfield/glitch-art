{
 "cells": [
  {
   "cell_type": "markdown",
   "metadata": {},
   "source": [
    "`I need a better word than \"software/hardware... and the numans that make it\" and \"human editors/photographer\"... Some terms I can define, and that are broad enough to include stages in process/history`\n",
    "\n",
    "I played the cello growing up. For a couple years in high school, I was at a school too far away for it to be practical to schlep my cello to school. As a result, I played on a cello that belonged to the school at school, and on my own cello at home. The cello at school was not in very good shape: it was missing an endpin, so I had to hold it up with my lower legs as I played. A particular note in the middle of the register would buzz when plucked, and I never quite figured out what made it do that. The sound was always dull, and if I bowed too hard, its strings would rattle unpleasantly.\n",
    "\n",
    "As a crowning detail, if you looked through the holes into the inside cavity of the cello, you could see the Roman numeral 13 painted in dripping red letters. \n",
    "\n",
    "Playing between these two instruments made me see cello playing in a new light. I didn't play *on* a cello— I played *with* a cello. On both instruments, I was able to create decent music, but the experience was completely different. Playing the cello at home was like collaborating with a good friend. It was as if we both knew what eachother wanted and needed, and our goals aligned. Playing on cello $XIII$ required pleading, bargaining, negotiating, and deceiving. I had to change my technique to get it to do what I wanted, as well as change my expectations to match my playing to what it wanted.\n",
    "\n",
    "The experience I had making music is one that is likely familiar to anyone who practices a craft involving some tool, including the production of photographic images. At every stage of the production of an image, there are human and technological forces working together. In taking a photograph, a photographer can make decisions about how to take the image— what framing to use, what shutter speed and aperture to shoot at, and more. However, just as many decisions are made by the camera and its manufacturers. From deciding which shutter speeds and apertures to support, to how the pattern of red, green, and blue light sensors will be laid out inside the camera, to even seemingly obvious things like that the sensor will be a rectangle, camera makers decide a lot. Later on, in editing, a similar thing happens: the photographer will decide on what tweaks they want to make to exposure, contrast, white balance, and so on. But the specifics of these algorithms are written by someone else.\n",
    "\n",
    "This is not to say that these forces are antagonistic. Far from it: a major component of photography is learning to work with these tools in such a way that is collaborative. Cameras are built with a set of assumptions about what people want images to be like. This is especially apparent in point-and-shoot and cellphone cameras, where the vast majority of the technical decisions are made by the designers of the camera hardware and software.\n",
    "\n",
    "In *Visual Truth*, Newton lays out a typology for the study of visual ethics with regard to the creation of photographs. The typology focuses on three perspectives from which an image can be analyzed: \"the subject, the photographer, \\[and\\] the viewer\" [(Newton, 139)](https://www.worldcat.org/title/burden-of-visual-truth-the-role-of-photojournalism-in-mediating-reality/oclc/1086530191). However, it is worth considering the designers of the hardware and software as a participant in the interaction, capable of just as many complex interactions. \"While media developers design their technologies in order that the user will forget about the presence of the medium, following the ideal logic of transparent immediacy, in reality, the complexity of the user’s inherently aesthetic and perceptual responses to the human computer interface requires a more nuanced approach\" [(*Glitch Moment(um)*, 29)](https://networkcultures.org/_uploads/NN%234_RosaMenkman.pdf).\n",
    "\n",
    "Many categories of Newton's typology can be applied to the interaction between human and computer. For instance, many photo editing softwares will give users the option to \"dodge\" and \"burn\" images. It is no secret that these operations do not literally hold a shadow over photo paper as it is exposed to a projection. However, these effects engage in *visual theater*, which Newton defines as images \"created by photographers and subjects in a kind of conscious or unconscious ritual or performance\" (143). Humans editing the images with the dodge/burn tool interact with it as if they were dodging or burning a photograph, and the computer responds as if it was a physical photograph being dodged or burned. Both parties are aware of the artificiality of this interaction, but interact in this performance.\n",
    "\n",
    "Visual clichés, which Newton defines as \"behavior that has become trite or stereotypical\" (143) are also present in interactions between humans and software for the creation of photographs. As an example, consider the craze of digital filters to emulate VHS distortion, itself a form of visual theater. Harry Frank, a designer of a digital VHS emulation filter described a balance between achieving accurate filters and playing to expectations. \"A lot of the time, people are quite young, applying these retro filters or styles, and have sort of an idea of what they're supposed to look like\" [(Scott, 1:23)](https://www.youtube.com/watch?v=h6RRNNztN5o). In this way, the interaction between the software creators and the users of the software passes from just visual theater (creating the look of a VHS tape, while both parties are aware that a VHS tape was not directly used), to visual cliché (creating a filter that plays to a stereotypical expectation of \"retro\" effects).\n",
    "\n",
    "Through techniques called computational photography, the software plays a more active, and more normative, role in the creation of photographs. computational photography is a technique used by recent smartphone cameras, in which the camera combines several source images— up to 15 in the case of the Google Pixel 3, shot before, during, and after the pressing of the button— into a more detailed image than the sensor would be able to produce by more conventional means. In some modes, this merely provides higher dynamic range and greater stabilization. However, in the \"Top Shot\" mode, \"a machine learning algorithm suggests other frames from the image stream which may have captured preferable moments according to a normative aesthetics. This includes detecting when a subject’s eyes are open rather than blinking, when a subject is facing towards the camera, or when faces are not obscured by foreground objects.\" [(Taffel, 6)](https://doi.org/10.1177/0163443720939449)\n",
    "\n",
    "Facial recognition algorithms of computational photography play a major role in automatic facial retouching, dubbed \"beauty mode\" by smartphone manufacturers. \"Facial retouching involves the camera recognising human faces and applying an algorithm to ‘smooth’ skin, through adding blur and removing chrominance or luminance differences that suggest ‘blemishes’ such as spots, freckles, blackheads or scars.\" In major smartphones by Google and Apple, facial retouching is the default setting. (Taffel, 13) For some users, this retouching could be a visual gift, hiding blemishes that they do not wish to appear in pictures. For others, it could function as visual theft, which Newton defines as \"taking something against the will of the observed, and often without the person’s knowledge.\" The difficulty, or even impossibility, of turning off the filter means that for anyone wanting the detail of their face to show up in a photograph, that detail is taken from them, without their knowledge or assent. In prioritizing the unblemished face, the creators of these algorithms make bold normative positions in celebration of youthfulness and certain beauty standards. Whether or not we believe they are acting ethically, it is clear that the software in image capture and processing is not a passive force, and not one controlled (or even known about) by the photographer.\n",
    "\n",
    "Most importantly for the study of visual ethics, the design of the software can be antagonistic to the intentions of the subject and photographer. This is not a new phenomena. As glitch artist Rosa Menkman writes, \"The de-facto ideal standard that has been in play since the early part of the twentieth century for most analogue photo labs has thus been positively biased toward white skin tones, which naturally have a high level of reflectivity. As a result it was not only difficult to capture darker and blacker skin tones, but it also proved impossible to capture two highly contrasting skin tones within the same shot\" [(Menkman, \"Behind White Shadows\", 6)](https://beyondresolution.nyc3.digitaloceanspaces.com/Rosa%20Menkman_Beyond%20Resolution_2020.pdf). Not only are these test images generally of white people, they are generally young white women: in fact, one commonly used test image, \"Lena,\" is cropped from a *Playboy* centerfold. By using these images for color calibration, film processing itself is created in ways such that detail in the faces of blacker skin tones was lost. This bias has continued into the digital era, with image compression algorithms irreversibly discarding more color information in the ranges of darker skin tones.\n",
    "\n",
    "The history and conventions of photography make it easy to ignore the visual ethics implications of the interaction between software and human editors. By \"systematically concealing nonhuman agency,\" photography conventions have historically led \"to conflation between human and technical modes of vision. This conflation is the outcome of social conventions, whereby technical parameters such as shutter speed are typically delimited in order to produce naturalistic images.\" (Taffel, 10) For most photographs, especially ones that seek to document events, such as in photojournalism or family photos, there is an expectation that the photographs will not stray far from expectation. Of course, as we've seen above, technologies both old and new make the processing of images less objective than we might believe. Believing in the objectivity of image processing could lead people to internalize the white supremacy inherent in image encoding as fact. It is important to draw attention to the unreliability of image processing not just in the academic field of visual ethics, but also on a subconscious level, though art.\n",
    "\n",
    "One such genre of art is *glitch art*. Adapting a definition from Menkman, a glitch is an interaction with technology that is \"a break from a procedural flow\" (*The Glitch Moment(um)*, 34). This break can be brought on by the artist, by deliberately using software for something at the margins of, or outside of, its intended purpose. It can also be brought on by software malfunctioning, and producing an unexpected result. Visual images that are produced through glitches (or that appear to be produced by glitches) and that provoke aesthetic appreciation or emotional reaction are works of glitch art. \n",
    "\n",
    "Glitch art draws attention to the unreliability of transmission and processing of images. Menkman writes that for her and other glitch artists, \"it has become a personal matter to break the assured informatic flows of media\" (Ibid. 33). Due to photographic conventions, these assured information flows involve an implicit promise to show a \"true to life\" image. Not only does glitch art not show what the eye sees: as this quote shows, it tries to break that promise, drawing it into question not just for the particular image, but for images as a whole."
   ]
  },
  {
   "cell_type": "code",
   "execution_count": null,
   "metadata": {},
   "outputs": [],
   "source": []
  }
 ],
 "metadata": {
  "kernelspec": {
   "display_name": "Python 3",
   "language": "python",
   "name": "python3"
  },
  "language_info": {
   "codemirror_mode": {
    "name": "ipython",
    "version": 3
   },
   "file_extension": ".py",
   "mimetype": "text/x-python",
   "name": "python",
   "nbconvert_exporter": "python",
   "pygments_lexer": "ipython3",
   "version": "3.7.4"
  }
 },
 "nbformat": 4,
 "nbformat_minor": 4
}
