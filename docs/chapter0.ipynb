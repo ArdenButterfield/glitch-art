{
 "cells": [
  {
   "cell_type": "markdown",
   "metadata": {},
   "source": [
    "# Chapter 0: A True Glitch\n",
    "\n",
    "![A true glitch](img/trueglitch.png)\n",
    "\n",
    "This was one of the first images I created for this project. I had just started writing code that would eventually grow into a sprawling set of methods to warp images in every way I could think of. I was writing the initial code for reading and writing image files using the Python Image Library. I ran a test, using a simple image: half black and half white, split diagonally down the middle. The result should have been identical to the test image. Instead, I encountered a glitch, a detail of which is shown above.\n",
    "\n",
    "This was the very first glitch in my quest to find glitches. It was also the *truest* glitch of the entire process. I didn't expect a glitch at all, and I don't totally understand what happened.\n",
    "\n",
    "This glitch reveals something about the tools I was using. It shows that this software sees colors in red, green, and blue, and that a four by four grid is in some way related to how the software interprets an image. When I went back to the test image, after fixing the problem with my code, I saw that simple image in a new, deeper light. \n",
    "\n",
    "Even in this simple task of reading and writing an image, there was a potential for undefined behavior. There can be code that is not correct, but not *so* incorrect that it crashes.\n",
    "\n",
    "I've spent the last two months creating and exploring these liminal spaces of correct mistakes. Let me give you a tour.\n",
    "\n",
    "[Home](../../README.md) [Next](chapter1.ipynb)"
   ]
  }
 ],
 "metadata": {
  "kernelspec": {
   "display_name": "Python 3",
   "language": "python",
   "name": "python3"
  },
  "language_info": {
   "codemirror_mode": {
    "name": "ipython",
    "version": 3
   },
   "file_extension": ".py",
   "mimetype": "text/x-python",
   "name": "python",
   "nbconvert_exporter": "python",
   "pygments_lexer": "ipython3",
   "version": "3.7.4"
  }
 },
 "nbformat": 4,
 "nbformat_minor": 4
}
