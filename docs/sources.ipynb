{
 "cells": [
  {
   "cell_type": "markdown",
   "metadata": {},
   "source": [
    "# Sources"
   ]
  },
  {
   "cell_type": "markdown",
   "metadata": {},
   "source": [
    "<p style='text-align: left;'>\n",
    "Brown, William, and Meetali Kutty. \"Datamoshing and the emergence of digital complexity from digital chaos.\" *Convergence*, vol. 18, no. 2, 2012, p. 165–176. SagePub, doi: 10.1177/1354856511433683. \n",
    "\n",
    "Gankra (Alexis Beingessner). \"Let's Corrupt The Web.\" gankra.github.io/glitch/. \n",
    "\n",
    "Gilliland, Genevieve. *The Abstraction of Meaning in the Digital Landscape and the Communities that Form There*. MA Thesis. The University of Tennessee, Knoxville. 2018. https://trace.tennessee.edu/utk_gradthes/5036.\n",
    "\n",
    "Hamilton, Eric. *JPEG File Interchange Format*. Version 1.02, 1 Sept. 1992, www.w3.org/Graphics/JPEG/jfif3.pdf.\n",
    "\n",
    "Kane, Carolyn L. *High-Tech Trash*. University of California Press, 2019. doi: doi. org/10.1525/luminos.83. \n",
    "\n",
    "Kowalchuk, Saskia. \"'Deep-fried' and Denaturalized: Critiquing Memetic Meta-Ontologies.\" *Association of Internet Researchers*, 2018, https://journals.uic.edu/ojs/index.php/spir/article/view/10490. \n",
    "\n",
    "Menkan, Rosa. \"Behind White Shadows.\" *Beyond Resolution*. Institutions of Resolution Disputes, 2020, beyondresolution.nyc3.digitaloceanspaces.com/Rosa%20Menkman_Beyond%20Resolution_2020.pdf. \n",
    "\n",
    "——. *The Glitch Moment(um)*. Institute of Network Cultures, 2011, www.networkcultures.org/networknotebooks. \n",
    "\n",
    "——. \"A Vernacular of File Formats.\" *Resolution Studies*, 2010, beyondresolution.nyc3.digitaloceanspaces.com/hifi%20Rosa%20Menkman%20-%20A%20Vernacular%20of%20File%20Formats.pdf. \n",
    "\n",
    "Miano, John. *Compressed Image File Formats*. ACM Press, 1999.\n",
    "\n",
    "Moradi, Iman, et al., editors. *Glitch: Designing Imperfection*. Mark Batty Publisher, 2009.\n",
    "\n",
    "Newton, Julie. *The Burden of Visual Truth: The Role of Photojournalism in Mediating Reality*, Mahweh, NJ: LEA, 2001. \n",
    "\n",
    "Peña, Ernesto, et al. \"Pixualization: Glitch art and Data visualization.\" *Brazilian Journal of Information Design*, vol. 17, no. 1, 2017, p. 89–105. *Gale Academic OneFile*. \n",
    "\n",
    "Rosin, Paul L. \"Image processing using 3-state cellular automata.\" *Computer Vision and Image Understanding*, no. 114, 2010, p. 790–802. *ScienceDirect*, doi:10.1016/j.cviu.2010.02.005. \n",
    "\n",
    "——. \"Training Cellular Automata for Image Processing.\" *IEEE Transactions of Image Processing*, vol. 15, no. 7, July 2006, p. 2076–2087. *IEEE Xplore*, doi:10.1109/TIP.2006.877040. \n",
    "\n",
    "Scott, Tom. \"How The 90s VHS Look Works.\" Things You Might Not Know, 23 July 2018. Youtube, www.youtube.com/watch?v=h6RRNNztN5o.\n",
    "\n",
    "Shabbar, Andie. \"Queer-Alt-Delete: Glitch Art as Protest Against the Surveillance Cis-tem.\" *Women's Studies Quarterly*, vol. 46, no. 3 & 4, 2018, pp. 195-211. MUSE, doi: doi.org/10.1353/wsq.2018.0039. \n",
    "\n",
    "Sharma, Satyarth M. \"Pixel Sorting.\" satyarth.me/articles/pixel-sorting/. \n",
    "\n",
    "Surma. \"Ditherpunk — The article I wish I had about monochrome image dithering.\" 4 Jan. 2021, surma.dev/things/ditherpunk/. \n",
    "\n",
    "Taffel, Sy. \"Google’s lens: computational photography and platform capitalism.\" *Media, Culture, and Society*, 2020. SagePub, doi:10.1177/0163443720939449. \n",
    "\n",
    "Ulichney, Robert. \"One-dimensional Dithering.\" *Cambridge Research Laboratory Technical Report Series*, vol. 98, no. 2, Apr. 1998, www.hpl.hp.com/techreports/Compaq-DEC/CRL-98-2.pdf.\n",
    "\n",
    "Z, Joe, et al. \"Build a working game of Tetris in Conway's Game of Life.\" *Code Golf Stack Exchange*, Stack Overflow, 5 Oct. 2018, codegolf.stackexchange.com/questions/11880/build-a-working-game-of-tetris-in-conways-game-of-life.\n",
    "</p>"
   ]
  },
  {
   "cell_type": "markdown",
   "metadata": {},
   "source": [
    "Thank you to Julie Newton and all the wonderful humans of \"J422H.\" You've inspired me to think about images, journalism, and myself in so many new and interesting ways."
   ]
  }
 ],
 "metadata": {
  "kernelspec": {
   "display_name": "Python 3",
   "language": "python",
   "name": "python3"
  },
  "language_info": {
   "codemirror_mode": {
    "name": "ipython",
    "version": 3
   },
   "file_extension": ".py",
   "mimetype": "text/x-python",
   "name": "python",
   "nbconvert_exporter": "python",
   "pygments_lexer": "ipython3",
   "version": "3.7.4"
  }
 },
 "nbformat": 4,
 "nbformat_minor": 4
}
