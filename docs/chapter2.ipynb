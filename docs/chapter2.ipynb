{
 "cells": [
  {
   "cell_type": "markdown",
   "metadata": {},
   "source": [
    "<!--`maybe?`\"computational photography’s reliance upon compositing multiple frames further undermines attempts to connect photography to indexicality.\" (Taffel, 3)-->\n",
    "\n",
    "For me, a lot of glitch comes from personal uncertainty about my own self-image. I really don't know what I want to look like, or how I want people to see me. I think a major part of that has been as a defensive tactic, as a way to cope with uncertain feelings about gender that I'm only just now uncovering. Thinking about my self image, and making decisions about how I want to look means facing my gender: do I want to look masculine or feminine, how do I want to fit into society's standards of appearance.`Tie it in`\n",
    "\n",
    "`Glitch art explores a collaborative interaction between the computer and human editor.`\n",
    "\n",
    "`Makes the known unknown, mystifies the image.` \"Purposely degraded and recontextualized, the deep-fried meme exists to defamiliarize practices of networked engagement and re-mystify the processes of reading and creating memes.\" (Kowalchuck, 1)\n",
    "\n",
    "`Focuses on imperfect transmission`\n",
    "\n",
    "`Glitch as protest by editor against what the software represents (i.e. Queer alt delete): Fit that into Newton's categories!` \"These low-resolution reproductions circulate through non-sanctioned channels, standing in direct opposition to the fetishization of rich images in the state sponsored image making hegemony\" (Kowalchuck, 1).\n",
    "\n",
    "`Seeing through the eyes of another. Isn't that what photography is all about? But this time, it's through the eyes of a computer` \"glitches are ‘computing’s aesthetic core’, and that by disrupting the ways in which computer-generated art conforms to the conventions of human spatial organisation, glitches allow us to rethink computer art and, we shall add, space and time themselves... the time of the datamosh is not a linear time dominated by human action... The datamosh sees these two temporalities interpenetrate each other, not least as the human and the ‘background’ seem to do literally that. Datamoshing involves a rearrangement of the human–computer assemblage as the (digital) environment comes to the fore, engulfing and swallowing up those human\" (Brown and Kutty, 171)\n",
    "\n",
    "`Collaborating with myself. How have I found that experience to be different from just doing stuff? How has the computer fed into my workflow?` \"What the artist does is to reappropriate the ‘chaos’ of the corrupted/compressed file and to turn it into an artwork, or what we shall argue here is a new ‘order’\" (Brown and Kutty, 173)"
   ]
  }
 ],
 "metadata": {
  "kernelspec": {
   "display_name": "Python 3",
   "language": "python",
   "name": "python3"
  },
  "language_info": {
   "codemirror_mode": {
    "name": "ipython",
    "version": 3
   },
   "file_extension": ".py",
   "mimetype": "text/x-python",
   "name": "python",
   "nbconvert_exporter": "python",
   "pygments_lexer": "ipython3",
   "version": "3.7.4"
  }
 },
 "nbformat": 4,
 "nbformat_minor": 4
}
