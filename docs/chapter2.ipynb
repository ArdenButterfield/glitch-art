{
 "cells": [
  {
   "cell_type": "markdown",
   "metadata": {},
   "source": [
    "# Chapter 2: Finding Meaning in Glitch\n",
    "\n",
    "Glitch art mystifies the process of creating images, by overwhelming the source image with noise, and forcing us to see the image from the perspective of the computer. As a result, glitch art can have profound and unexpected effects.\n",
    "\n",
    "Many great photographs have been celebrated for their ability to put the viewer in the shoes of the subject or the photographer. Glitch art can have a similar effect, but by putting the viewer in the shoes of the device. Glitches \"are ‘computing’s aesthetic core’, and that by disrupting the ways in which computer-generated art conforms to the conventions of human spatial organisation, glitches allow us to rethink computer art and, we shall add, space and time themselves\" [(Brown and Kutty, 171)](https://doi.org/10.1177/1354856511433683). Creating glitch art requires seeing images from the perspective of the computer. By manipulating the data as the computer sees it, creating and comprehending glitch art requires seeing images from the computer's perspective. For instance, the cover image of this report was created by scrambling the order of chunks of data from the center of the image file. This operation changes the location of parts of the image within the frame, and also wildly changes their colors in unpredictable ways. There is no real-world equivalent for this operation. Unlike the dodging and burning discussed in the previous chapter, this process is not designed to represent, or be a metaphor for, a more understandable process. Instead, understanding this image requires you to put yourself in the shoes of the computer, at either a conscious or subconscious level.\n",
    "\n",
    "The practice of changing perspective through glitch art can add interest to otherwise banal images. This can be seen in the medium of \"deep-fried memes,\" a style related to glitch art. Deep-fried memes are captioned images that that have been run through repeated filters to create intensely distorted, compressed, and garishly-colored images. In addition, deep-fried memes often subvert formulaic meme formats, sometimes lacking a punchline altogether. \"Purposely degraded and recontextualized, the deep-fried meme exists to defamiliarize practices of networked engagement and re-mystify the processes of reading and creating memes\" [(Kowalchuck, 1)](https://journals.uic.edu/ojs/index.php/spir/article/view/10490). Like glitch art, deep-fried memes introduce so much noise that the original image cannot be seen clearly beneath it. The noise becomes the signal. On the deep-fried memes Reddit community, \"memers are given a space in which they, essentially, mock no one in particular but rather an entire structure\" [(Gilliland, 52)](https://trace.tennessee.edu/utk_gradthes/5036). While glitch art and deep-fried memes force viewers to recontextualize the image from the perspective of the computer, the end result of looking at such an image can be completely different: deep-fried memes don't make people think about image compression from a technological standpoint, but about absurdity and ironic humor itself. To get to that mindset, viewers and creators of these memes must be disorented out of a comfortable, familiar mindset. Glitching images achieves that shift.\n",
    "\n",
    "Artists have used that mystifying effect of glitch art as a form of protest. Andie Shabbar, a queer glitch artist, writes that her glitch \"exposes the fallibility of digital technologies and it exploits their weakness to produce uncertain and indeterminate effects that render new ways of engaging with our digital-physical selves\" [(Shabbar, 197)](https://doi.org/10.1353/wsq.2018.0039). Specifically, her art \"glitches gender by (re)moving, adding, and duplicating information in ways that affirm the self as an always-becoming multiplicity\" (Ibid., 208). Shabbar used these new ways of interacting with self and gender though glitch as a protest against digital surveillance, especially as it seeks to sort people into rigid categories of race and gender. \n",
    "\n",
    "Glitch art exists as a collaboration between developer, device, and user. The contrasting expectations of the user and developer create a chaotic product. But the chaos itself is not glitch art. \"What the artist does is to reappropriate the ‘chaos’ of the corrupted/compressed file and to turn it into an artwork, or what we shall argue here is a new ‘order’\" (Brown and Kutty, 173). Like deep-fried memes leading to self-aware, absurdist senses of humor, or Shabbar's work using glitch to protest digital surveillance, and portraying the self as a multiplicity, glitch art gets its power from artists and viewers who ascribe meaning to it in an attempt to understand it.\n",
    "\n",
    "For me, a lot of glitch comes from personal uncertainty about my own self-image. I really have no idea what I want to look like, or how I want others to see me. A lot of this has to do with gender: I’m unsure about where I feel most at home in relation to masculinity and femininity, and I don’t know how I want the way I look to tie into that. I think this discomfort is the reason why I feel the most like myself when I’m making things on my own— then, the things that I make, rather than myself, is the face I show to the world.\n",
    "\n",
    "Creating a series of glitched self-portraaits was a way for me to explore identity appearance. In creating these portraits, I played roles all across the creation of the image, as subject, photgrapher, editor programmer and viewer. By glitching the image, I had no way, at any step of the process, of predicting or controlling what effect it would have on the viewer. As a result, I confronted myself with surprising images of myself which I could evaluate, in retrospect, in what ways they felt like an accurate representation of who I was."
   ]
  }
 ],
 "metadata": {
  "kernelspec": {
   "display_name": "Python 3",
   "language": "python",
   "name": "python3"
  },
  "language_info": {
   "codemirror_mode": {
    "name": "ipython",
    "version": 3
   },
   "file_extension": ".py",
   "mimetype": "text/x-python",
   "name": "python",
   "nbconvert_exporter": "python",
   "pygments_lexer": "ipython3",
   "version": "3.7.4"
  }
 },
 "nbformat": 4,
 "nbformat_minor": 4
}
