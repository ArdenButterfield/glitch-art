{
 "cells": [
  {
   "cell_type": "markdown",
   "metadata": {},
   "source": [
    "# Glitch Art project \\[STILL A WORK IN PROGRESS\\]\n",
    "\n",
    "![Image of branches with multicolored bands across it](docs/img/branchjpeg2.png)\n",
    "\n",
    "Glitch art examines the aesthetics of corrupting, distorting, and mangling images, adding noise until you can't look away. This report is the story of my journey through glitch art, over the past couple months. In chapter 1, I examine visual ethics concerns related to the interactions between photogrpahers and editing technology, and how glitch art serves as a necessary solution. In chapter 2, I reflect on ways that artists, including myself, have found meaning through glitch art. I document my own process of writing and using code to create glitch art, describing the technical goals and solutions of the project in chapter 3. Finally, chapter 4 is a gallery of glitch art that I created using my code.\n",
    "\n",
    "## [Chapter 0: A True Glitch](docs/chapter0.ipynb)\n",
    "\n",
    "## [Chapter 1: Glitch and Visual Ethics](docs/chapter1.ipynb)\n",
    "\n",
    "## [Chapter 2: Finding Meaning in Glitch](docs/chapter2.ipynb)\n",
    "\n",
    "## [Chapter 3: Making Mistakes, Faking Mistakes](docs/chapter3.ipynb)\n",
    "\n",
    "## [Chapter 4: A Gallery of Glitches](docs/chapter4.ipynb)\n",
    "\n",
    "## [Sources](docs/sources.ipynb)"
   ]
  }
 ],
 "metadata": {
  "kernelspec": {
   "display_name": "Python 3",
   "language": "python",
   "name": "python3"
  },
  "language_info": {
   "codemirror_mode": {
    "name": "ipython",
    "version": 3
   },
   "file_extension": ".py",
   "mimetype": "text/x-python",
   "name": "python",
   "nbconvert_exporter": "python",
   "pygments_lexer": "ipython3",
   "version": "3.7.4"
  }
 },
 "nbformat": 4,
 "nbformat_minor": 4
}
